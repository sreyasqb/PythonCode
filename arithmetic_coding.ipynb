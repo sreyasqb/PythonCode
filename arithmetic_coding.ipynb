{
  "nbformat": 4,
  "nbformat_minor": 0,
  "metadata": {
    "colab": {
      "name": "arithmetic_coding.ipynb",
      "provenance": [],
      "authorship_tag": "ABX9TyPMjTJNO2psc1pcfWBS7OQO",
      "include_colab_link": true
    },
    "kernelspec": {
      "name": "python3",
      "display_name": "Python 3"
    },
    "language_info": {
      "name": "python"
    }
  },
  "cells": [
    {
      "cell_type": "markdown",
      "metadata": {
        "id": "view-in-github",
        "colab_type": "text"
      },
      "source": [
        "<a href=\"https://colab.research.google.com/github/sreyasqb/PythonCode/blob/master/arithmetic_coding.ipynb\" target=\"_parent\"><img src=\"https://colab.research.google.com/assets/colab-badge.svg\" alt=\"Open In Colab\"/></a>"
      ]
    },
    {
      "cell_type": "markdown",
      "source": [
        "ENCODING ARITHMETIC CODING"
      ],
      "metadata": {
        "id": "LUsY3R0VwIO6"
      }
    },
    {
      "cell_type": "code",
      "source": [
        "from decimal import Decimal"
      ],
      "metadata": {
        "id": "K8Iyo0z-z0c8"
      },
      "execution_count": 35,
      "outputs": []
    },
    {
      "cell_type": "code",
      "execution_count": 27,
      "metadata": {
        "colab": {
          "base_uri": "https://localhost:8080/"
        },
        "id": "_AFdWSpsp4Yg",
        "outputId": "7f0ada42-b9d6-4d2e-fc75-c312b579985f"
      },
      "outputs": [
        {
          "output_type": "stream",
          "name": "stdout",
          "text": [
            "{'S': 0.5, 'W': 0.1, 'I': 0.2, '-': 0.1, 'M': 0.1}\n"
          ]
        }
      ],
      "source": [
        "s='SWISS-MISS'\n",
        "d,n={},len(s)\n",
        "for i in s:d[i]=0\n",
        "for i in s:d[i]+=1/n\n",
        "print(d)"
      ]
    },
    {
      "cell_type": "code",
      "source": [
        "c=1\n",
        "for i in d:\n",
        "    a=d[i]\n",
        "    d[i]=(c-a,c)\n",
        "    c-=a"
      ],
      "metadata": {
        "id": "55ImyA7mqWZz"
      },
      "execution_count": 28,
      "outputs": []
    },
    {
      "cell_type": "code",
      "source": [
        "print(d)"
      ],
      "metadata": {
        "colab": {
          "base_uri": "https://localhost:8080/"
        },
        "id": "cuFxn81zraUV",
        "outputId": "3f945f8c-7d78-4dd9-cce2-879d7f9899a5"
      },
      "execution_count": null,
      "outputs": [
        {
          "output_type": "stream",
          "name": "stdout",
          "text": [
            "{'S': (0.5, 1), 'W': (0.4, 0.5), 'I': (0.2, 0.4), '-': (0.1, 0.2), 'M': (0.0, 0.1)}\n"
          ]
        }
      ]
    },
    {
      "cell_type": "code",
      "source": [
        "pair=[0,1]\n",
        "for i in s:\n",
        "    low,high=pair\n",
        "    pair[0]=low+(high-low)*d[i][0]\n",
        "    pair[1]=low+(high-low)*d[i][1]\n",
        "    print(pair)"
      ],
      "metadata": {
        "colab": {
          "base_uri": "https://localhost:8080/"
        },
        "id": "nqEq-Hcyrowd",
        "outputId": "31276b01-4497-4e36-f6ea-cad17ab7b403"
      },
      "execution_count": 42,
      "outputs": [
        {
          "output_type": "stream",
          "name": "stdout",
          "text": [
            "[0.5, 1]\n",
            "[0.7, 0.75]\n",
            "[0.71, 0.72]\n",
            "[0.715, 0.72]\n",
            "[0.7175, 0.72]\n",
            "[0.71775, 0.718]\n",
            "[0.71775, 0.717775]\n",
            "[0.717755, 0.7177600000000001]\n",
            "[0.7177575, 0.7177600000000001]\n",
            "[0.71775875, 0.7177600000000001]\n"
          ]
        }
      ]
    },
    {
      "cell_type": "markdown",
      "source": [
        "**DECODING ARITHMETIC CODING**"
      ],
      "metadata": {
        "id": "fSU9qzgVv-s9"
      }
    },
    {
      "cell_type": "code",
      "source": [
        "num=0.71775875\n",
        "w=''\n",
        "for j in range(n):\n",
        "    for i in d:\n",
        "        if d[i][0]<num<=d[i][1]:\n",
        "            w+=i\n",
        "            num=(num-d[i][0])/(d[i][1]-d[i][0])\n",
        "            break\n",
        "print(w)"
      ],
      "metadata": {
        "id": "NiXxI7Ylv2Ad",
        "colab": {
          "base_uri": "https://localhost:8080/"
        },
        "outputId": "b54c4ab7-a315-402d-fd5f-9139e20154ac"
      },
      "execution_count": 41,
      "outputs": [
        {
          "output_type": "stream",
          "name": "stdout",
          "text": [
            "SWISS-MISW\n"
          ]
        }
      ]
    },
    {
      "cell_type": "markdown",
      "source": [
        ""
      ],
      "metadata": {
        "id": "lcKKkBZXwFw7"
      }
    },
    {
      "cell_type": "markdown",
      "source": [
        ""
      ],
      "metadata": {
        "id": "4hMwbYBUwGzS"
      }
    }
  ]
}