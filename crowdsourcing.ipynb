{
  "nbformat": 4,
  "nbformat_minor": 0,
  "metadata": {
    "colab": {
      "name": "crowdsourcing.ipynb",
      "provenance": [],
      "authorship_tag": "ABX9TyN7m6wtZW3hRiek2vBSaM1c",
      "include_colab_link": true
    },
    "kernelspec": {
      "name": "python3",
      "display_name": "Python 3"
    },
    "language_info": {
      "name": "python"
    }
  },
  "cells": [
    {
      "cell_type": "markdown",
      "metadata": {
        "id": "view-in-github",
        "colab_type": "text"
      },
      "source": [
        "<a href=\"https://colab.research.google.com/github/sreyasqb/PythonCode/blob/master/crowdsourcing.ipynb\" target=\"_parent\"><img src=\"https://colab.research.google.com/assets/colab-badge.svg\" alt=\"Open In Colab\"/></a>"
      ]
    },
    {
      "cell_type": "code",
      "execution_count": 1,
      "metadata": {
        "colab": {
          "base_uri": "https://localhost:8080/"
        },
        "id": "TvqTbfkQQP7_",
        "outputId": "800e664b-1b3e-49d2-b973-3124caa0f26f"
      },
      "outputs": [
        {
          "output_type": "stream",
          "name": "stdout",
          "text": [
            "['A', 'B', 'C', 'D', 'E', 'F', 'G', 'H', 'I', 'J', 'K', 'L', 'M', 'N', 'O', 'P', 'Q', 'R', 'S', 'T', 'U', 'V', 'W', 'X', 'Y', 'Z']\n",
            "[['H'], ['B', 'B', 'M', 'D'], ['J', 'A'], ['R', 'H'], ['K'], ['A', 'K', 'R'], ['T', 'D', 'Y'], ['W', 'Z', 'N'], ['L'], ['O']]\n",
            "10\n",
            "[['O', 'B'], ['P', 'C', 'J'], ['C'], ['W'], ['C', 'M'], ['X', 'H', 'P'], ['H'], ['P', 'I', 'D'], ['M'], ['D', 'T', 'D', 'H'], ['S', 'F', 'E'], ['F'], ['F', 'H', 'O', 'L'], ['Z', 'T', 'Z'], ['T', 'A', 'P', 'X'], ['D', 'W', 'L'], ['S', 'V', 'T'], ['Y', 'Z', 'Q'], ['H', 'Z', 'P'], ['A', 'T', 'J'], ['W'], ['L'], ['F'], ['M', 'E', 'C'], ['B', 'P', 'Q'], ['T', 'D', 'K'], ['M', 'T', 'X', 'V'], ['B', 'P', 'S'], ['L', 'F', 'Z'], ['X', 'C']]\n",
            "[2, 3, 1, 1, 2, 3, 1, 3, 1, 4, 3, 1, 4, 3, 4, 3, 3, 3, 3, 3, 1, 1, 1, 3, 3, 3, 4, 3, 3, 2]\n",
            "[[0.3, 0.7], [0.5, 0.4, 0.1], [1.0], [1.0], [0.2, 0.8], [0.4, 0.5, 0.1], [1.0], [0.1, 0.2, 0.7], [1.0], [0.3, 0.1, 0.2, 0.4], [0.6, 0.1, 0.3], [1.0], [0.2, 0.3, 0.4, 0.1], [0.4, 0.5, 0.1], [0.4, 0.1, 0.2, 0.3], [0.1, 0.4, 0.5], [0.3, 0.5, 0.2], [0.2, 0.3, 0.5], [0.5, 0.2, 0.3], [0.6, 0.1, 0.3], [1.0], [1.0], [1.0], [0.2, 0.1, 0.7], [0.6, 0.1, 0.3], [0.5, 0.3, 0.2], [0.2, 0.3, 0.1, 0.4], [0.5, 0.4, 0.1], [0.2, 0.3, 0.5], [0.8, 0.2]]\n",
            "30\n",
            "TASK SET\n",
            "   TASK ID  TASK BUDGET SKILL REQUIREMENT\n",
            "0        1          1.2               [H]\n",
            "1        2          1.5      [B, B, M, D]\n",
            "2        3          2.0            [J, A]\n",
            "3        4          1.1            [R, H]\n",
            "4        5          1.0               [K]\n",
            "5        6          1.5         [A, K, R]\n",
            "6        7          1.1         [T, D, Y]\n",
            "7        8          1.6         [W, Z, N]\n",
            "8        9          1.8               [L]\n",
            "9       10          1.4               [O] \n",
            "\n",
            "WORKER SET\n",
            "\n",
            "     WORKER ID  WORKER QUALITY SKILLS OFFERED     PROFFECIENCY LIST\n",
            "0           1             0.9         [O, B]            [0.3, 0.7]\n",
            "1           2             0.5      [P, C, J]       [0.5, 0.4, 0.1]\n",
            "2           3             0.2            [C]                 [1.0]\n",
            "3           4             0.8            [W]                 [1.0]\n",
            "4           5             0.1         [C, M]            [0.2, 0.8]\n",
            "5           6             0.2      [X, H, P]       [0.4, 0.5, 0.1]\n",
            "6           7             0.4            [H]                 [1.0]\n",
            "7           8             1.0      [P, I, D]       [0.1, 0.2, 0.7]\n",
            "8           9             0.8            [M]                 [1.0]\n",
            "9          10             0.9   [D, T, D, H]  [0.3, 0.1, 0.2, 0.4]\n",
            "10         11             0.1      [S, F, E]       [0.6, 0.1, 0.3]\n",
            "11         12             0.8            [F]                 [1.0]\n",
            "12         13             0.1   [F, H, O, L]  [0.2, 0.3, 0.4, 0.1]\n",
            "13         14             0.9      [Z, T, Z]       [0.4, 0.5, 0.1]\n",
            "14         15             0.4   [T, A, P, X]  [0.4, 0.1, 0.2, 0.3]\n",
            "15         16             0.4      [D, W, L]       [0.1, 0.4, 0.5]\n",
            "16         17             0.8      [S, V, T]       [0.3, 0.5, 0.2]\n",
            "17         18             0.8      [Y, Z, Q]       [0.2, 0.3, 0.5]\n",
            "18         19             1.0      [H, Z, P]       [0.5, 0.2, 0.3]\n",
            "19         20             0.3      [A, T, J]       [0.6, 0.1, 0.3]\n",
            "20         21             0.2            [W]                 [1.0]\n",
            "21         22             0.3            [L]                 [1.0]\n",
            "22         23             0.4            [F]                 [1.0]\n",
            "23         24             0.5      [M, E, C]       [0.2, 0.1, 0.7]\n",
            "24         25             0.5      [B, P, Q]       [0.6, 0.1, 0.3]\n",
            "25         26             0.3      [T, D, K]       [0.5, 0.3, 0.2]\n",
            "26         27             0.6   [M, T, X, V]  [0.2, 0.3, 0.1, 0.4]\n",
            "27         28             0.6      [B, P, S]       [0.5, 0.4, 0.1]\n",
            "28         29             0.2      [L, F, Z]       [0.2, 0.3, 0.5]\n",
            "29         30             0.1         [X, C]            [0.8, 0.2] \n",
            "\n",
            "           PREFERENCE LIST(WORKERS)\n",
            "0   [7, 9, 1, 10, 6, 3, 5, 2, 8, 4]\n",
            "1   [7, 9, 3, 10, 1, 8, 2, 6, 5, 4]\n",
            "2   [7, 4, 9, 1, 10, 8, 2, 3, 5, 6]\n",
            "3   [1, 10, 3, 9, 6, 7, 8, 5, 2, 4]\n",
            "4   [7, 5, 9, 10, 1, 2, 3, 8, 4, 6]\n",
            "5   [8, 5, 1, 10, 2, 6, 7, 9, 3, 4]\n",
            "6   [5, 8, 7, 10, 1, 2, 6, 3, 9, 4]\n",
            "7   [3, 8, 4, 7, 6, 2, 9, 1, 5, 10]\n",
            "8   [2, 5, 6, 1, 8, 4, 7, 3, 10, 9]\n",
            "9   [7, 2, 4, 1, 8, 9, 10, 6, 3, 5]\n",
            "10  [9, 10, 2, 3, 1, 5, 7, 6, 8, 4]\n",
            "11  [2, 5, 6, 7, 10, 9, 8, 3, 1, 4]\n",
            "12  [3, 8, 7, 6, 5, 2, 4, 1, 10, 9]\n",
            "13  [3, 1, 9, 2, 5, 4, 8, 7, 10, 6]\n",
            "14  [6, 3, 2, 7, 10, 4, 1, 5, 9, 8]\n",
            "15  [6, 4, 5, 10, 3, 2, 1, 7, 9, 8]\n",
            "16  [6, 8, 7, 4, 5, 9, 3, 2, 10, 1]\n",
            "17  [7, 6, 9, 5, 4, 10, 2, 8, 3, 1]\n",
            "18  [10, 7, 4, 5, 9, 8, 3, 2, 6, 1]\n",
            "19  [3, 9, 8, 2, 1, 5, 4, 10, 6, 7]\n",
            "20  [9, 7, 10, 6, 1, 5, 8, 3, 2, 4]\n",
            "21  [4, 6, 3, 10, 1, 2, 5, 8, 9, 7]\n",
            "22  [7, 6, 2, 4, 3, 10, 1, 8, 9, 5]\n",
            "23  [1, 9, 6, 7, 10, 3, 4, 2, 5, 8]\n",
            "24  [3, 8, 4, 10, 6, 1, 7, 9, 2, 5]\n",
            "25  [1, 6, 4, 8, 9, 10, 3, 5, 2, 7]\n",
            "26  [8, 6, 5, 3, 10, 4, 1, 2, 9, 7]\n",
            "27  [4, 8, 5, 10, 6, 7, 9, 3, 1, 2]\n",
            "28  [5, 10, 8, 3, 7, 2, 1, 6, 9, 4]\n",
            "29  [6, 4, 10, 3, 7, 5, 1, 9, 2, 8]\n",
            "{0: 0.9, 1: 0.5, 2: 0.2, 3: 0.8, 4: 0.1, 5: 0.2, 6: 0.4, 7: 1.0, 8: 0.8, 9: 0.9, 10: 0.1, 11: 0.8, 12: 0.1, 13: 0.9, 14: 0.4, 15: 0.4, 16: 0.8, 17: 0.8, 18: 1.0, 19: 0.3, 20: 0.2, 21: 0.3, 22: 0.4, 23: 0.5, 24: 0.5, 25: 0.3, 26: 0.6, 27: 0.6, 28: 0.2, 29: 0.1}\n",
            "{4: 0.1, 10: 0.1, 12: 0.1, 29: 0.1, 2: 0.2, 5: 0.2, 20: 0.2, 28: 0.2, 19: 0.3, 21: 0.3, 25: 0.3, 6: 0.4, 14: 0.4, 15: 0.4, 22: 0.4, 1: 0.5, 23: 0.5, 24: 0.5, 26: 0.6, 27: 0.6, 3: 0.8, 8: 0.8, 11: 0.8, 16: 0.8, 17: 0.8, 0: 0.9, 9: 0.9, 13: 0.9, 7: 1.0, 18: 1.0}\n",
            "dict_keys([4, 10, 12, 29, 2, 5, 20, 28, 19, 21, 25, 6, 14, 15, 22, 1, 23, 24, 26, 27, 3, 8, 11, 16, 17, 0, 9, 13, 7, 18])\n",
            "\n",
            "\n",
            "PREFERENCE LIST OF CROWDSOURCERS:\n",
            " [19, 8, 14, 10, 1, 18, 17, 12, 9, 4, 28, 27, 25, 24, 2, 23, 16, 15, 7, 26, 22, 20, 29, 21, 6, 3, 30, 13, 11, 5]\n"
          ]
        }
      ],
      "source": [
        "import pandas as pd\n",
        "import random as r\n",
        "from openpyxl.workbook import Workbook\n",
        "import numpy as np\n",
        "import itertools\n",
        "\n",
        "#TASK ATTRIBUTES\n",
        "t_id,t_budget,t_quality,t_skill=[],[],[],[]\n",
        "s=[]\n",
        "for k in range(65,91):\n",
        "    s.append(chr(k))\n",
        "print(s)\n",
        "for i in range(1,11):\n",
        "    t_id.append(i)\n",
        "    t_budget.append(round(r.uniform(1.0, 2.0), 1))\n",
        "    t_quality.append(round(r.uniform(0.1, 1.0), 1))\n",
        "    t=r.randrange(1,5)\n",
        "    for t1 in range(0,t):\n",
        "        if t1==0:\n",
        "            t_skill.insert(i-1,[r.choice(s)])\n",
        "        else:\n",
        "            t_skill[i-1].append(r.choice(s))\n",
        "\n",
        "print(t_skill)\n",
        "print(len(t_skill))\n",
        "\n",
        "#WORKER ATTRIBUTES\n",
        "w_id,w_payment,w_quality,w_preflist,w_skill=[],[],[],[],[]\n",
        "l = list(range(1,11))\n",
        "n=0\n",
        "for j in range(1,31):\n",
        "    w_id.append(j)\n",
        "    w_payment.append(r.randrange(50,101))\n",
        "    w_quality.append(round(r.uniform(0.1, 1.0), 1))\n",
        "    r.shuffle(l)\n",
        "    w_preflist.append(l[:])\n",
        "    w = r.randrange(1, 5)\n",
        "    for w1 in range(0, w):\n",
        "        if w1 == 0:\n",
        "            w_skill.insert(j - 1, [r.choice(s)])\n",
        "        else:\n",
        "            w_skill[j - 1].append(r.choice(s))\n",
        "\n",
        "w_proff=[]\n",
        "m=[]\n",
        "print(w_skill)\n",
        "for q in range(len(w_skill)):\n",
        "    m.append(len(w_skill[q]))\n",
        "print(m)\n",
        "v=[0.1,0.2,0.3,0.4,0.5,0.6,0.7,0.8,0.9,1.0]\n",
        "for m1 in m:\n",
        "    while True:\n",
        "        pick = r.sample(v, m1)\n",
        "        if sum(pick) == 1.0:\n",
        "            break\n",
        "    result = pick\n",
        "    w_proff.append(result)\n",
        "print(w_proff)\n",
        "\n",
        "print(len(w_preflist))\n",
        "df1 = pd.DataFrame({'TASK ID': t_id,'TASK BUDGET' : t_budget,'SKILL REQUIREMENT': t_skill})\n",
        "df2 = pd.DataFrame({'WORKER ID': w_id,'WORKER QUALITY' : w_quality,'SKILLS OFFERED': w_skill,'PROFFECIENCY LIST': w_proff})\n",
        "df3=pd.DataFrame({'PREFERENCE LIST(TASK)': w_quality})\n",
        "df4=pd.DataFrame({'PREFERENCE LIST(WORKERS)': w_preflist})\n",
        "print(\"TASK SET\")\n",
        "print(df1,\"\\n\")\n",
        "print(\"WORKER SET\")\n",
        "print(\"\\n\",df2,\"\\n\")\n",
        "print(df4)\n",
        "w_quality.sort()\n",
        "# print(w_quality)\n",
        "\n",
        "w=df3.to_dict('dict')\n",
        "# print(w)\n",
        "vals=w.values()\n",
        "for g in vals:\n",
        "    print(g)\n",
        "g1=g.items()\n",
        "# print(g1,type(g1))\n",
        "sorted=(sorted(g1, key=lambda x: x[1]))\n",
        "# print(sorted)\n",
        "\n",
        "\n",
        "def Convert(sorted, di):\n",
        "    di = dict(sorted)\n",
        "    print(di)\n",
        "    di_1=di.keys()\n",
        "    print(di_1)\n",
        "    t_preflist=[x + 1 for x in di_1]\n",
        "    #print(\"====\",x1)\n",
        "    t_preflist.reverse()\n",
        "    print(\"\\n\\nPREFERENCE LIST OF CROWDSOURCERS:\\n\",t_preflist)\n",
        "    global df5\n",
        "    df5 = pd.DataFrame({'PREFERENCE LIST(TASKS)': t_preflist})\n",
        "    # if 0 in t_preflist:\n",
        "    #     print(\"======you\")\n",
        "    # else:\n",
        "    #     print(\"===no you\")\n",
        "dictionary = {}\n",
        "Convert(sorted, dictionary)\n",
        "\n",
        "\n",
        "\n",
        "#.xlsx file\n",
        "file_name = 'task_dataset.xlsx'\n",
        "file1_name = 'worker_dataset.xlsx'\n",
        "file2_name = 'worker_preference.xlsx'\n",
        "file3_name = 'task_preference.xlsx'\n",
        "df1.to_excel(file_name)\n",
        "df2.to_excel(file1_name)\n",
        "df4.to_excel(file2_name)\n",
        "df5.to_excel(file3_name)\n",
        "#.txt file\n",
        "numpy_array1 = df1.to_numpy()\n",
        "numpy_array2 = df2.to_numpy()\n",
        "numpy_array3 = df4.to_numpy()\n",
        "numpy_array4 = df5.to_numpy()\n",
        "np.savetxt(\"tsk_dataset.txt\", numpy_array1, fmt = \"%s\")\n",
        "np.savetxt(\"wrkr_dataset.txt\", numpy_array2, fmt = \"%s \")\n",
        "np.savetxt(\"wrkr_pref.txt\", numpy_array3, fmt = \"%s\")\n",
        "np.savetxt(\"tsk_pref.txt\", numpy_array4, fmt = \"%s\")"
      ]
    },
    {
      "cell_type": "code",
      "source": [
        "oDf1=df1.copy(deep=True)\n",
        "oDf2=df2.copy(deep=True)\n",
        "oDf3=df3.copy(deep=True)\n",
        "oDf4=df4.copy(deep=True)"
      ],
      "metadata": {
        "id": "oXEXxxvLdLBT"
      },
      "execution_count": 60,
      "outputs": []
    },
    {
      "cell_type": "code",
      "source": [
        "def mostPreferredJob(u): #user is passed as argument\n",
        "  skills=u[2]\n",
        "  # jobDict={}\n",
        "  mostPreferredJobList=[]\n",
        "  for index,key in enumerate(df1['SKILL REQUIREMENT']):\n",
        "    # print(index,)\n",
        "    for j in key:\n",
        "      if j in skills:\n",
        "        mostPreferredJobList.append([index+1,j])\n",
        "  \n",
        "  mostPreferredJobList.sort(key=lambda x: -x[0])#prints it in descending order\n",
        "  # print(mostPreferredJobList)\n",
        "  return mostPreferredJobList\n",
        "\n",
        "  #9   [7, 2, 4, 1, 8, 9, 10, 6, 3, 5]\n"
      ],
      "metadata": {
        "id": "Ref4UzeBQqLF"
      },
      "execution_count": 61,
      "outputs": []
    },
    {
      "cell_type": "code",
      "source": [
        "wId=10\n",
        "wData=df2.iloc[wId-1]\n",
        "mostPreferredJobList = mostPreferredJob(wData)\n",
        "print(mostPreferredJobList) \n",
        "# [[TASK ID,SKILL]]"
      ],
      "metadata": {
        "colab": {
          "base_uri": "https://localhost:8080/"
        },
        "id": "NultkiOfRxj8",
        "outputId": "0a78a39b-41b8-4c4e-bfa1-02984cb142fb"
      },
      "execution_count": 41,
      "outputs": [
        {
          "output_type": "stream",
          "name": "stdout",
          "text": [
            "[[7, 'T'], [7, 'D'], [4, 'H'], [2, 'D'], [1, 'H']]\n"
          ]
        }
      ]
    },
    {
      "cell_type": "code",
      "source": [
        "df1.iat[6,1]=1.1\n",
        "print(oDf1.iat[6,1])\n",
        "print(df1.iat[6,1])"
      ],
      "metadata": {
        "colab": {
          "base_uri": "https://localhost:8080/"
        },
        "id": "1qfkSLj0c8ti",
        "outputId": "e837493a-83cb-4120-dac8-4a1c625a968b"
      },
      "execution_count": 83,
      "outputs": [
        {
          "output_type": "stream",
          "name": "stdout",
          "text": [
            "1.1\n",
            "1.1\n"
          ]
        }
      ]
    },
    {
      "cell_type": "code",
      "source": [
        "#adding new column to dataset for assigned taks\n",
        "print(df1.shape[0])\n",
        "tempList=[]\n",
        "for i in range(df1.shape[0]):\n",
        "  tempList.append(['*' for i in range(len(df1.iloc[i][2]))])\n",
        "print(tempList)\n",
        "\n",
        "df1['TASKS ASSIGNED']=tempList\n",
        "print(df1)"
      ],
      "metadata": {
        "colab": {
          "base_uri": "https://localhost:8080/"
        },
        "id": "MG8XdQp-eUj6",
        "outputId": "b0c2ad31-2eba-4561-fc91-b306fed57edd"
      },
      "execution_count": 109,
      "outputs": [
        {
          "output_type": "stream",
          "name": "stdout",
          "text": [
            "10\n",
            "[['*'], ['*', '*', '*', '*'], ['*', '*'], ['*', '*'], ['*'], ['*', '*', '*'], ['*', '*', '*'], ['*', '*', '*'], ['*'], ['*']]\n",
            "   TASK ID  TASK BUDGET SKILL REQUIREMENT TASKS ASSIGNED\n",
            "0        1          1.2               [H]            [*]\n",
            "1        2          1.5      [B, B, M, D]   [*, *, *, *]\n",
            "2        3          2.0            [J, A]         [*, *]\n",
            "3        4          1.1            [R, H]         [*, *]\n",
            "4        5          1.0               [K]            [*]\n",
            "5        6          1.5         [A, K, R]      [*, *, *]\n",
            "6        7          1.1         [T, D, Y]      [*, *, *]\n",
            "7        8          1.6         [W, Z, N]      [*, *, *]\n",
            "8        9          1.8               [L]            [*]\n",
            "9       10          1.4               [O]            [*]\n"
          ]
        }
      ]
    },
    {
      "cell_type": "code",
      "source": [
        "while mostPreferredJobList!=[]:\n",
        "  t=mostPreferredJobList[0]\n",
        "  profInd=wData[2].index(t[1])\n",
        "  tData=df1.iloc[t[0]-1]\n",
        "  assignSkillInd=tData[2].index(t[1])\n",
        "  # print(assignSkillInd)\n",
        "  # print(profInd)\n",
        "\n",
        "  # print(df1.iat[t[0]-1,1])\n",
        "  if wData[3][profInd]<=df1.iat[t[0]-1,1]:\n",
        "    df1.iat[t[0]-1,1]-=wData[3][profInd]\n",
        "    df1.iat[t[0]-1,3][assignSkillInd]=wId\n",
        "    break\n",
        "  else:\n",
        "    usersAssigned=list(filter(lambda x: x!='*',df1.iat[t[0]-1,3]))\n",
        "    for u in usersAssigned:\n",
        "      if df2['WORKER QUALITY'][u-1]<=df2['WORKER QUALITY'][wId-1]:\n",
        "        # if  wData[3][profInd]<=df1.iat[t[0]-1,1]+\n",
        "        pass\n",
        "\n",
        "    \n",
        "\n",
        "    # mostPreferredJobList.pop(0)\n",
        "  # print(df1.iat[t[0]-1,1])\n",
        "  # if wData:\n",
        "  "
      ],
      "metadata": {
        "id": "LUJ9KEjFVHZs"
      },
      "execution_count": 111,
      "outputs": []
    },
    {
      "cell_type": "code",
      "source": [
        "# print(list(filter(lambda x: x!='*',df1.iat[t[0]-1,3])))"
      ],
      "metadata": {
        "colab": {
          "base_uri": "https://localhost:8080/"
        },
        "id": "gXmrNLxImjvy",
        "outputId": "40af5ef3-c1b2-4c10-9d17-a24c9c433449"
      },
      "execution_count": 118,
      "outputs": [
        {
          "output_type": "stream",
          "name": "stdout",
          "text": [
            "[10]\n"
          ]
        }
      ]
    },
    {
      "cell_type": "code",
      "source": [
        ""
      ],
      "metadata": {
        "colab": {
          "base_uri": "https://localhost:8080/"
        },
        "id": "oe1eIE49a1LO",
        "outputId": "41aaf2cf-f2de-49bf-b72c-63a27a438e78"
      },
      "execution_count": 119,
      "outputs": [
        {
          "output_type": "execute_result",
          "data": {
            "text/plain": [
              "0     0.9\n",
              "1     0.5\n",
              "2     0.2\n",
              "3     0.8\n",
              "4     0.1\n",
              "5     0.2\n",
              "6     0.4\n",
              "7     1.0\n",
              "8     0.8\n",
              "9     0.9\n",
              "10    0.1\n",
              "11    0.8\n",
              "12    0.1\n",
              "13    0.9\n",
              "14    0.4\n",
              "15    0.4\n",
              "16    0.8\n",
              "17    0.8\n",
              "18    1.0\n",
              "19    0.3\n",
              "20    0.2\n",
              "21    0.3\n",
              "22    0.4\n",
              "23    0.5\n",
              "24    0.5\n",
              "25    0.3\n",
              "26    0.6\n",
              "27    0.6\n",
              "28    0.2\n",
              "29    0.1\n",
              "Name: WORKER QUALITY, dtype: float64"
            ]
          },
          "metadata": {},
          "execution_count": 119
        }
      ]
    },
    {
      "cell_type": "code",
      "source": [
        ""
      ],
      "metadata": {
        "id": "84zNN5jUjtjS"
      },
      "execution_count": 107,
      "outputs": []
    },
    {
      "cell_type": "code",
      "source": [
        ""
      ],
      "metadata": {
        "id": "twZAojaFkfYF"
      },
      "execution_count": null,
      "outputs": []
    }
  ]
}