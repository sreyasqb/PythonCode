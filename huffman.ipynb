{
  "nbformat": 4,
  "nbformat_minor": 0,
  "metadata": {
    "colab": {
      "name": "huffman.ipynb",
      "provenance": [],
      "authorship_tag": "ABX9TyPwQKOSJeA4dORJdCkdqJrs",
      "include_colab_link": true
    },
    "kernelspec": {
      "name": "python3",
      "display_name": "Python 3"
    },
    "language_info": {
      "name": "python"
    }
  },
  "cells": [
    {
      "cell_type": "markdown",
      "metadata": {
        "id": "view-in-github",
        "colab_type": "text"
      },
      "source": [
        "<a href=\"https://colab.research.google.com/github/sreyasqb/PythonCode/blob/master/huffman.ipynb\" target=\"_parent\"><img src=\"https://colab.research.google.com/assets/colab-badge.svg\" alt=\"Open In Colab\"/></a>"
      ]
    },
    {
      "cell_type": "code",
      "execution_count": 47,
      "metadata": {
        "id": "gFfVwRB5hTeM"
      },
      "outputs": [],
      "source": [
        "s='a'*15+'b'*7+'c'*6+'d'*6+'e'*5\n",
        "d={}\n",
        "ans={}\n",
        "for i in s:\n",
        "    d[i]=0\n",
        "    ans[i]=''\n",
        "for i in s:d[i]+=1\n",
        "pTable=sorted(d.items(), key=lambda x: x[1])\n",
        "def huffman(l):\n",
        "    n=len(l)\n",
        "    if n==1:return 1\n",
        "    for i in l[0][0]:ans[i]='0'+ans[i]\n",
        "    for i in l[1][0]:ans[i]='1'+ans[i]\n",
        "    l=l[2:]+[(l[0][0]+l[1][0],l[0][1]+l[1][1])]\n",
        "    l.sort(key=lambda x:x[1])\n",
        "    huffman(l)"
      ]
    },
    {
      "cell_type": "code",
      "source": [
        "huffman(pTable)\n",
        "print(ans)"
      ],
      "metadata": {
        "colab": {
          "base_uri": "https://localhost:8080/"
        },
        "id": "QIrHc3beiaah",
        "outputId": "be1e3592-440f-459d-d851-470526ef3836"
      },
      "execution_count": 48,
      "outputs": [
        {
          "output_type": "stream",
          "name": "stdout",
          "text": [
            "[('e', 5), ('c', 6), ('d', 6), ('b', 7), ('a', 15)]\n",
            "[('d', 6), ('b', 7), ('ec', 11), ('a', 15)]\n",
            "[('ec', 11), ('db', 13), ('a', 15)]\n",
            "[('a', 15), ('ecdb', 24)]\n",
            "[('aecdb', 39)]\n",
            "{'a': '0', 'b': '111', 'c': '101', 'd': '110', 'e': '100'}\n"
          ]
        }
      ]
    },
    {
      "cell_type": "code",
      "source": [
        ""
      ],
      "metadata": {
        "colab": {
          "base_uri": "https://localhost:8080/"
        },
        "id": "HyTmvniajcVH",
        "outputId": "c1dbed40-6c3e-480a-be04-875a8ee1cb4a"
      },
      "execution_count": 20,
      "outputs": [
        {
          "output_type": "stream",
          "name": "stdout",
          "text": [
            "[('a', 3), ('e', 3), ('c', 4), ('bd', 4)]\n",
            "{'a': '', 'b': '111', 'c': '', 'd': '000', 'e': ''}\n"
          ]
        }
      ]
    }
  ]
}