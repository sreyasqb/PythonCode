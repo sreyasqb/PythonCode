{
  "nbformat": 4,
  "nbformat_minor": 0,
  "metadata": {
    "colab": {
      "name": "ml_lab.ipynb",
      "provenance": [],
      "authorship_tag": "ABX9TyM91KcgN+J3iv7xNCsBZVo0",
      "include_colab_link": true
    },
    "kernelspec": {
      "name": "python3",
      "display_name": "Python 3"
    },
    "language_info": {
      "name": "python"
    }
  },
  "cells": [
    {
      "cell_type": "markdown",
      "metadata": {
        "id": "view-in-github",
        "colab_type": "text"
      },
      "source": [
        "<a href=\"https://colab.research.google.com/github/sreyasqb/PythonCode/blob/master/ml_lab.ipynb\" target=\"_parent\"><img src=\"https://colab.research.google.com/assets/colab-badge.svg\" alt=\"Open In Colab\"/></a>"
      ]
    },
    {
      "cell_type": "code",
      "execution_count": 17,
      "metadata": {
        "id": "3QFWk70XTn79"
      },
      "outputs": [],
      "source": [
        "import numpy as np\n",
        "import matplotlib.pyplot as plt"
      ]
    },
    {
      "cell_type": "code",
      "source": [
        "def linearRegression(x,y):\n",
        "    xBar,yBar=x.mean(),y.mean()\n",
        "    sXY=sum(x*y)-len(x)*xBar*yBar\n",
        "    sXX=sum(x*x)-len(x)*xBar*xBar\n",
        "    sYY=sum(y*y)-len(y)*yBar*yBar\n",
        "    corrCoeff=sXY/np.sqrt(sXX*sYY)\n",
        "    beta1=sXY/sXX\n",
        "    beta0=yBar-beta1*xBar\n",
        "    print(f'beta 0 : {round(beta0,2)}\\nbeta 1 : {round(beta1,2)}\\ncorrelation coeff : {round(corrCoeff,2)}')\n",
        "    xCap=np.arange(min(x)-2,max(x)+5)\n",
        "    yCap=beta1*x+beta0\n",
        "    yErr=abs(yCap-y)\n",
        "    print(\"SUM OF LEAST SQURAES : \",round(sum(yErr*yErr),2))\n",
        "    print(f'value at 21 = {round(beta1*21+beta0,2)}\\n')\n",
        "    print(f'value at 29 = {round(beta1*29+beta0,2)}\\n')\n",
        "    plt.plot(xCap,xCap*beta1+beta0,color='red')\n",
        "    plt.scatter(x,y,color='black')\n",
        "    plt.scatter(21,beta1*21+beta0,color='blue')\n",
        "    plt.scatter(29,beta1*29+beta0,color='blue')\n",
        "    \n",
        "    \n",
        "\n",
        "    "
      ],
      "metadata": {
        "id": "_ui6zsCjT3K0"
      },
      "execution_count": 65,
      "outputs": []
    },
    {
      "cell_type": "code",
      "source": [
        "sunshine=np.array([2,3,5,7,9])\n",
        "icecreams=np.array([4,5,7,10,15])\n",
        "linearRegression(sunshine,icecreams)"
      ],
      "metadata": {
        "colab": {
          "base_uri": "https://localhost:8080/",
          "height": 373
        },
        "id": "Rg35aPuzUXnU",
        "outputId": "a83f5ed4-75de-4c29-e549-07753e792ac5"
      },
      "execution_count": 58,
      "outputs": [
        {
          "output_type": "stream",
          "name": "stdout",
          "text": [
            "beta 0 : 0.3\n",
            "beta 1 : 1.52\n",
            "correlation coeff : 0.98\n",
            "SUM OF LEAST SQURAES :  3.19\n",
            "value at 21 = 32.189024390243915\n",
            "\n"
          ]
        },
        {
          "output_type": "display_data",
          "data": {
            "text/plain": [
              "<Figure size 432x288 with 1 Axes>"
            ],
            "image/png": "[encoded data removed]"
          },
          "metadata": {
            "needs_background": "light"
          }
        }
      ]
    },
    {
      "cell_type": "code",
      "source": [
        "temp=np.array([14.2,16.4,11.9,15.2,18.5,22.1,19.4,25.1,23.4,18.1,22.6,17.2])\n",
        "sales=np.array([215,325,185,332,406,522,412,614,544,421,445,408])\n",
        "linearRegression(temp,sales)"
      ],
      "metadata": {
        "colab": {
          "base_uri": "https://localhost:8080/",
          "height": 408
        },
        "id": "AZHM28DKczYz",
        "outputId": "92743d07-2110-410b-8d7d-04c3be8194ee"
      },
      "execution_count": 66,
      "outputs": [
        {
          "output_type": "stream",
          "name": "stdout",
          "text": [
            "beta 0 : -159.47\n",
            "beta 1 : 30.09\n",
            "correlation coeff : 0.96\n",
            "SUM OF LEAST SQURAES :  14536.3\n",
            "value at 21 = 472.37\n",
            "\n",
            "value at 29 = 713.07\n",
            "\n"
          ]
        },
        {
          "output_type": "display_data",
          "data": {
            "text/plain": [
              "<Figure size 432x288 with 1 Axes>"
            ],
            "image/png": "[encoded data removed]"
          },
          "metadata": {
            "needs_background": "light"
          }
        }
      ]
    }
  ]
}