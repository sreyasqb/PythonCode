{
  "nbformat": 4,
  "nbformat_minor": 0,
  "metadata": {
    "colab": {
      "name": "shannon-fano-algo.ipynb",
      "provenance": [],
      "authorship_tag": "ABX9TyO3DxuJPPFMvMgHm6t8ilJ+",
      "include_colab_link": true
    },
    "kernelspec": {
      "name": "python3",
      "display_name": "Python 3"
    },
    "language_info": {
      "name": "python"
    }
  },
  "cells": [
    {
      "cell_type": "markdown",
      "metadata": {
        "id": "view-in-github",
        "colab_type": "text"
      },
      "source": [
        "<a href=\"https://colab.research.google.com/github/sreyasqb/PythonCode/blob/master/shannon_fano_algo.ipynb\" target=\"_parent\"><img src=\"https://colab.research.google.com/assets/colab-badge.svg\" alt=\"Open In Colab\"/></a>"
      ]
    },
    {
      "cell_type": "markdown",
      "source": [
        "SHANNON-FANO ALGORITHM"
      ],
      "metadata": {
        "id": "IAkerTJ2uRUb"
      }
    },
    {
      "cell_type": "code",
      "execution_count": 90,
      "metadata": {
        "colab": {
          "base_uri": "https://localhost:8080/"
        },
        "id": "QBVcMysZhASL",
        "outputId": "e65d8107-cc57-4376-88eb-5da3a0a45115"
      },
      "outputs": [
        {
          "output_type": "stream",
          "name": "stdout",
          "text": [
            "[('a', 0.125), ('o', 0.125), ('s', 0.125), ('d', 0.0625), ('t', 0.0625), (' ', 0.0625), ('c', 0.0625), ('m', 0.0625), ('p', 0.0625), ('r', 0.0625), ('e', 0.0625), ('i', 0.0625), ('n', 0.0625)]\n"
          ]
        }
      ],
      "source": [
        "# s='A'*15+'C'*6+'B'*7+'E'*5+'D'*6\n",
        "s='data compression'\n",
        "d,n={},len(s)\n",
        "for i in s:d[i]=0\n",
        "for i in s:d[i]+=1/n\n",
        "pTable=sorted(d.items(), key=lambda x: -x[1])\n",
        "# pTable=[('E', 0.33), ('D', 0.1), ('B', 0.2), ('C', 0.13), ('A', 0.06)]\n",
        "# pTable=[('E', 0.5), ('D', 0.2), ('B', 0.1), ('C', 0.07), ('A', 0.03)]\n",
        "print(pTable)"
      ]
    },
    {
      "cell_type": "code",
      "source": [
        "finalAns={}\n",
        "def shannonFano(pTable,code):\n",
        "    sm=0\n",
        "    # print(pTable)\n",
        "    for i in pTable:sm+=i[1]\n",
        "    # print(sm,code)\n",
        "    if len(pTable)<=1:\n",
        "        finalAns[pTable[0][0]]=code\n",
        "        return []\n",
        "    ans,c=[],0\n",
        "    for i in range(len(pTable)-1):\n",
        "        c+=pTable[i][1]\n",
        "        # print(abs(c+pTable[i+1][1]-0.5),abs(c-0.5))\n",
        "        if abs(c+pTable[i+1][1]-sm/2)>abs(c-sm/2):\n",
        "            ans=[pTable[:i+1],pTable[i+1:]]\n",
        "            break\n",
        "    # print(ans[0],ans[1],sep='//')\n",
        "    shannonFano(ans[0],code+'0')\n",
        "    shannonFano(ans[1],code+'1')"
      ],
      "metadata": {
        "id": "oXF7C6Teo81m"
      },
      "execution_count": 93,
      "outputs": []
    },
    {
      "cell_type": "code",
      "source": [
        "shannonFano(pTable,'')\n",
        "print(finalAns)"
      ],
      "metadata": {
        "colab": {
          "base_uri": "https://localhost:8080/"
        },
        "id": "COfDPzkLpZ-A",
        "outputId": "76edb630-596e-4df8-a757-4658bc31a6eb"
      },
      "execution_count": 94,
      "outputs": [
        {
          "output_type": "stream",
          "name": "stdout",
          "text": [
            "[('a', 0.125), ('o', 0.125), ('s', 0.125), ('d', 0.0625), ('t', 0.0625), (' ', 0.0625), ('c', 0.0625), ('m', 0.0625), ('p', 0.0625), ('r', 0.0625), ('e', 0.0625), ('i', 0.0625), ('n', 0.0625)]\n",
            "[('a', 0.125), ('o', 0.125), ('s', 0.125), ('d', 0.0625), ('t', 0.0625)]\n",
            "[('a', 0.125), ('o', 0.125)]\n",
            "[('a', 0.125)]\n",
            "[('o', 0.125)]\n",
            "[('s', 0.125), ('d', 0.0625), ('t', 0.0625)]\n",
            "[('s', 0.125)]\n",
            "[('d', 0.0625), ('t', 0.0625)]\n",
            "[('d', 0.0625)]\n",
            "[('t', 0.0625)]\n",
            "[(' ', 0.0625), ('c', 0.0625), ('m', 0.0625), ('p', 0.0625), ('r', 0.0625), ('e', 0.0625), ('i', 0.0625), ('n', 0.0625)]\n",
            "[(' ', 0.0625), ('c', 0.0625), ('m', 0.0625), ('p', 0.0625)]\n",
            "[(' ', 0.0625), ('c', 0.0625)]\n",
            "[(' ', 0.0625)]\n",
            "[('c', 0.0625)]\n",
            "[('m', 0.0625), ('p', 0.0625)]\n",
            "[('m', 0.0625)]\n",
            "[('p', 0.0625)]\n",
            "[('r', 0.0625), ('e', 0.0625), ('i', 0.0625), ('n', 0.0625)]\n",
            "[('r', 0.0625), ('e', 0.0625)]\n",
            "[('r', 0.0625)]\n",
            "[('e', 0.0625)]\n",
            "[('i', 0.0625), ('n', 0.0625)]\n",
            "[('i', 0.0625)]\n",
            "[('n', 0.0625)]\n",
            "{'a': '000', 'o': '001', 's': '010', 'd': '0110', 't': '0111', ' ': '1000', 'c': '1001', 'm': '1010', 'p': '1011', 'r': '1100', 'e': '1101', 'i': '1110', 'n': '1111'}\n"
          ]
        }
      ]
    }
  ]
}