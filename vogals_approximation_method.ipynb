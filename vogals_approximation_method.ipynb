{
  "nbformat": 4,
  "nbformat_minor": 0,
  "metadata": {
    "colab": {
      "provenance": []
    },
    "kernelspec": {
      "name": "python3",
      "display_name": "Python 3"
    },
    "language_info": {
      "name": "python"
    }
  },
  "cells": [
    {
      "cell_type": "code",
      "source": [
        "import math"
      ],
      "metadata": {
        "id": "ZcCxpeYo8eX6"
      },
      "execution_count": null,
      "outputs": []
    },
    {
      "cell_type": "code",
      "source": [
        "def findRowDiff(l):\n",
        "  if len(l)==1:\n",
        "    return l[0]\n",
        "  m1i,m2i=0,1\n",
        "  m1,m2=l[0],l[1]\n",
        "  for i in range(len(l)):\n",
        "      if l[i]<m1:\n",
        "        m2,m2i=m1,m1i\n",
        "        m1,m1i=l[i],i\n",
        "      elif l[i]<m2 and m1i!=i:\n",
        "        m2,m2i=l[i],i\n",
        "  return m2-m1"
      ],
      "metadata": {
        "id": "l3Sm8i9j6PfS"
      },
      "execution_count": null,
      "outputs": []
    },
    {
      "cell_type": "code",
      "source": [
        "def findMaxElement(l):\n",
        "  m,ind=l[0],0\n",
        "  for i in range(1,len(l)):\n",
        "    if l[i]>m:\n",
        "      m=l[i]\n",
        "      ind=i\n",
        "  return (m,ind)"
      ],
      "metadata": {
        "id": "ig2hJDSZYC4p"
      },
      "execution_count": null,
      "outputs": []
    },
    {
      "cell_type": "code",
      "source": [
        "def findMinElement(l):\n",
        "  m,ind=l[0],0\n",
        "  for i in range(1,len(l)):\n",
        "    if l[i]<m:\n",
        "      m=l[i]\n",
        "      ind=i\n",
        "  return (m,ind)"
      ],
      "metadata": {
        "id": "1d-vYz3dbPsa"
      },
      "execution_count": null,
      "outputs": []
    },
    {
      "cell_type": "code",
      "execution_count": null,
      "metadata": {
        "id": "0My8OOuH0QPG"
      },
      "outputs": [],
      "source": [
        "def vogalsMethod(M,demand,supply):\n",
        "  \n",
        "  assignment=[]\n",
        "  \n",
        "  m,n=len(M),len(M[0])\n",
        "  while len(assignment)<m+n-1:\n",
        "    rowDiff,colDiff=[],[]\n",
        "    # print(M)\n",
        "    for i in range(len(M)):\n",
        "      rowDiff.append(findRowDiff(M[i]))\n",
        "    for i in range(len(M[0])):\n",
        "      x=[M[j][i] for j in range(len(M))]\n",
        "      colDiff.append(findRowDiff(x))\n",
        "    # print('rowDIff')\n",
        "    # print(rowDiff) \n",
        "    # print(colDiff)\n",
        "    rMax=findMaxElement(rowDiff)\n",
        "    cMax=findMaxElement(colDiff)\n",
        "    # print('row max , col max')\n",
        "    # print(rMax,cMax)\n",
        "    if cMax[0]>rMax[0]:\n",
        "      column=[]\n",
        "      for i in range(len(M)):\n",
        "        column.append(M[i][cMax[1]])\n",
        "      minCol=findMinElement(column)\n",
        "      # print(f'demand : {demand}\\nsupply : {supply}')\n",
        "      # print('minCol : ',minCol)\n",
        "      \n",
        "      if demand[minCol[1]]>supply[cMax[1]]:\n",
        "        \n",
        "        assignment.append([minCol[0],supply[cMax[1]]])\n",
        "        demand[minCol[1]]-=supply[cMax[1]]\n",
        "        supply[cMax[1]]=0\n",
        "        for i in range(len(M)):\n",
        "          M[i].pop(cMax[1])\n",
        "        supply.pop(cMax[1])\n",
        "      else:\n",
        "        assignment.append([minCol[0],demand[minCol[1]]])\n",
        "        supply[cMax[1]]-=demand[minCol[1]]\n",
        "        demand[minCol[1]]=0\n",
        "        M.pop(minCol[1])\n",
        "        demand.pop(minCol[1])\n",
        "    else:\n",
        "      minRow=findMinElement(M[rMax[1]])\n",
        "      if demand[minRow[1]] > supply[rMax[1]]:\n",
        "        assignment.append([minRow[0],supply[rMax[1]]])\n",
        "        demand[minRow[1]] -= supply[rMax[1]]\n",
        "        supply[rMax[1]]=0\n",
        "        for i in range(len(M)):\n",
        "          M[i].pop(rMax[1])\n",
        "        supply.pop(rMax[1])\n",
        "      else:\n",
        "        assignment.append([minRow[0],demand[minRow[1]]])\n",
        "        supply[rMax[1]]-=demand[minRow[1]]\n",
        "        demand[minRow[1]]=0\n",
        "        M.pop(minRow[1])\n",
        "        demand.pop(minRow[1])\n",
        "      \n",
        "    # print(f'assignment : {assignment}\\n')\n",
        "  # print(assignment)\n",
        "  for i in assignment:\n",
        "    print(f'{i[0]} -> {i[1]}')\n",
        "    "
      ]
    },
    {
      "cell_type": "code",
      "source": [
        "M=[\n",
        "    [3,2,7,6,50],\n",
        "   [7,5,2,3,60],\n",
        "   [2,5,4,5,25],\n",
        "   [60,40,20,15]\n",
        "]\n",
        "demand,demandSum=[],0\n",
        "suppy,supplySum=[],0\n",
        "n=len(M)\n",
        "for i in range(n):\n",
        "  if i!=n-1:\n",
        "    x=M[i].pop(-1)\n",
        "    demand.append(x)\n",
        "    demandSum+=x\n",
        "  else:\n",
        "    x=M.pop(i)\n",
        "    supply=x\n",
        "    supplySum=sum(x)\n",
        "#print(demand,demandSum)\n",
        "#print(supply,supplySum)\n",
        "#print(M)\n",
        "vogalsMethod(M,demand,supply)"
      ],
      "metadata": {
        "colab": {
          "base_uri": "https://localhost:8080/"
        },
        "id": "zqh6Nn351UFm",
        "outputId": "e63186b8-a037-4e51-ba20-88e195626552"
      },
      "execution_count": null,
      "outputs": [
        {
          "output_type": "stream",
          "name": "stdout",
          "text": [
            "2 -> 40\n",
            "3 -> 10\n",
            "2 -> 25\n",
            "7 -> 25\n",
            "3 -> 15\n",
            "2 -> 20\n"
          ]
        }
      ]
    },
    {
      "cell_type": "code",
      "source": [],
      "metadata": {
        "colab": {
          "base_uri": "https://localhost:8080/"
        },
        "id": "uqgCNBUD5GFw",
        "outputId": "f5984731-4158-43c9-f693-8ba567c5650b"
      },
      "execution_count": null,
      "outputs": [
        {
          "output_type": "stream",
          "name": "stdout",
          "text": [
            "[1, 1, 2]\n"
          ]
        }
      ]
    },
    {
      "cell_type": "code",
      "source": [
        " "
      ],
      "metadata": {
        "id": "9082bPhA53ZB"
      },
      "execution_count": null,
      "outputs": []
    },
    {
      "cell_type": "code",
      "source": [],
      "metadata": {
        "id": "ekLh-k06XNDJ"
      },
      "execution_count": null,
      "outputs": []
    }
  ]
}